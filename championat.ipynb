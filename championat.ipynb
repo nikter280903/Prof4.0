{
 "cells": [
  {
   "cell_type": "code",
   "execution_count": 1,
   "id": "7b95c3e8-e6d6-4562-95d2-68f5bfba55bc",
   "metadata": {},
   "outputs": [],
   "source": [
    "import pandas as pd\n",
    "# Загрузка данных\n",
    "file_path = 'cases.xlsx'\n",
    "df = pd.read_excel(file_path)\n",
    "if 'Выполнено' in df.columns and 'Описание' in df.columns:\n",
    "    # Выбираем, где 'Выполнено' равно 'нет'\n",
    "    nevypolneno_df = df[df['Выполнено'] == 'нет'].copy()\n",
    "    # Определяем тип задачи\n",
    "    def determine_task_type(description):\n",
    "        if 'убить' in description:\n",
    "            return 'Враг'\n",
    "        elif 'уничтожить' in description:\n",
    "            return 'Враг'\n",
    "        elif 'победить' in description:\n",
    "            return 'Враг'\n",
    "        elif 'прогнать' in description:\n",
    "            return 'Враг'\n",
    "        elif 'проучить' in description:\n",
    "            return 'Враг'\n",
    "        elif 'спасти' in description:\n",
    "            return 'Пропажа'\n",
    "        elif 'освободить' in description:\n",
    "            return 'Пропажа'\n",
    "        elif 'найти' in description:\n",
    "            return 'Пропажа'\n",
    "        elif 'вернуть' in description:\n",
    "            return 'Пропажа'\n",
    "        else:\n",
    "            return 0\n",
    "    nevypolneno_df['Задача'] = nevypolneno_df['Описание'].apply(determine_task_type)\n",
    "\n",
    "    # Сохраняем данные в Excel\n",
    "    nevypolneno_df.to_excel('nevypolneno.xlsx', index=False)\n"
   ]
  },
  {
   "cell_type": "code",
   "execution_count": 2,
   "id": "03fab667-c46d-4c43-8e3d-0224b976baae",
   "metadata": {},
   "outputs": [],
   "source": [
    "import pandas as pd\n",
    "# Загрузка данных\n",
    "file_path = 'diaries.xlsx'\n",
    "df = pd.read_excel(file_path)\n",
    "if all(col in df.columns for col in ['Герой', 'Затрачено часов', 'Роль']):\n",
    "    # Группируем данные по 'Герой' и 'Роль', суммируем 'Затрачено часов'\n",
    "    roles_summary = df.groupby(['Герой', 'Роль'], as_index=False)['Затрачено часов'].sum()\n",
    "    roles_pivot = roles_summary.pivot(index='Герой', columns='Роль', values='Затрачено часов').fillna(0)\n",
    "    roles_pivot.reset_index(inplace=True)\n",
    "    # Сохраняем данные в Excel\n",
    "    output_file_path = 'roles.xlsx'\n",
    "    roles_pivot.to_excel(output_file_path, index=False)\n"
   ]
  },
  {
   "cell_type": "code",
   "execution_count": 3,
   "id": "4a2a1fd8-b92a-40cc-a17a-0eb6999e9bc7",
   "metadata": {},
   "outputs": [],
   "source": [
    "import pandas as pd\n",
    "df1 = pd.read_excel('cases.xlsx')\n",
    "df2 = pd.read_excel('marks.xlsx')\n",
    "filtered_cases_df = df1[df1['Выполнено'] == 'да']\n",
    "df_merge1 = pd.merge(filtered_cases_df, df2, on='Номер поручения', how = 'left')\n",
    "def assign_value(task):\n",
    "    if 'убить' in str(task):  # Приводим к строке для обработки\n",
    "        return 'Враг'\n",
    "    elif 'уничтожить' in str(task):\n",
    "        return 'Враг'\n",
    "    elif 'победить' in str(task):\n",
    "        return 'Враг'\n",
    "    elif 'прогнать' in str(task):\n",
    "        return 'Враг'\n",
    "    elif 'проучить' in str(task):\n",
    "        return 'Враг'\n",
    "    elif 'спасти' in str(task):\n",
    "        return 'Пропажа'\n",
    "    elif 'освободить' in str(task):\n",
    "        return 'Пропажа'\n",
    "    elif 'найти' in str(task):\n",
    "        return 'Пропажа'\n",
    "    elif 'вернуть' in str(task):\n",
    "        return 'Пропажа'\n",
    "    else:\n",
    "        return 0 \n",
    "df_merge1['Задача'] = df_merge1['Описание'].apply(assign_value)\n",
    "if all(col in df_merge1.columns for col in ['Оценка за качество', 'Оценка по срокам', 'Оценка за вежливость']):\n",
    "    df_merge1['Общая оценка'] = 0.5 * df_merge1['Оценка за качество'] + 0.4 * df_merge1['Оценка по срокам'] + 0.1 * df_merge1['Оценка за вежливость']\n",
    "df_merge1.to_excel('TotalMarks.xlsx', index=False)"
   ]
  },
  {
   "cell_type": "code",
   "execution_count": 4,
   "id": "03c8fbc2-b348-4e27-96af-f93e16f654ef",
   "metadata": {},
   "outputs": [],
   "source": [
    "import pandas as pd\n",
    "df = pd.read_excel('TotalMarks.xlsx')\n",
    "if all(col in df.columns for col in ['Герой', 'Общая оценка', 'Задача']):\n",
    "    # Фильтруем данные по типу задачи 'Враг'\n",
    "    enemy_tasks = df[df['Задача'] == 'Враг']\n",
    "    # Рассчитываем среднюю оценку для каждого героя по задачам 'Враг'\n",
    "    enemy_avg = enemy_tasks.groupby('Герой')['Общая оценка'].mean().reset_index()\n",
    "    # Фильтруем данные по типу задачи 'Пропажа'\n",
    "    missing_tasks = df[df['Задача'] == 'Пропажа']\n",
    "    # Рассчитываем среднюю оценку для каждого героя по задачам 'Пропажа'\n",
    "    missing_avg = missing_tasks.groupby('Герой')['Общая оценка'].mean().reset_index()\n",
    "    with pd.ExcelWriter('Distribution.xlsx') as writer:\n",
    "        enemy_avg.to_excel(writer, sheet_name='Враг', index=False)\n",
    "        missing_avg.to_excel(writer, sheet_name='Пропажа', index=False)\n"
   ]
  },
  {
   "cell_type": "code",
   "execution_count": null,
   "id": "45cca0d9-5d82-47e2-929c-e278a9edc750",
   "metadata": {},
   "outputs": [],
   "source": []
  }
 ],
 "metadata": {
  "kernelspec": {
   "display_name": "Python 3 (ipykernel)",
   "language": "python",
   "name": "python3"
  },
  "language_info": {
   "codemirror_mode": {
    "name": "ipython",
    "version": 3
   },
   "file_extension": ".py",
   "mimetype": "text/x-python",
   "name": "python",
   "nbconvert_exporter": "python",
   "pygments_lexer": "ipython3",
   "version": "3.13.0"
  }
 },
 "nbformat": 4,
 "nbformat_minor": 5
}
